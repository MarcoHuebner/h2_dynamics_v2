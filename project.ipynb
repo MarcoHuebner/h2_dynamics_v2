{
 "cells": [
  {
   "cell_type": "markdown",
   "metadata": {},
   "source": [
    "# Dissociation Dynamics of H2+ in XUV and IR laser fields"
   ]
  },
  {
   "cell_type": "markdown",
   "metadata": {},
   "source": [
    "The aim of this programming project is to retrace the main steps in an IR-laser-induced vibrational break-up of an XUV-ionized $H_2$-molecule, not from an experimentalists but a computational point of view. In the following, we analyze the XUV-induced ionization process in four steps to study the break-up dynamics and obtain similar results to\n",
    "[[1]](https://doi.org/10.1103/PhysRevA.93.012507). \n",
    "\n",
    "<img src=\"imgs/titelbild.png\" alt=\"Drawing\" style=\"width: 800px;\"/>\n",
    "\n",
    "At first, the vibrational eigenstates of the $H_2^+$-molecule in its electronic ground state are determined. Second, we will depict the wave packet propagation without the IR laser field. Next, we will simulate the time evolution in the time-dependent potential with its avoided crossing behaviour, as the IR laser field couples the bound and unbound Born-Oppenheimer surfaces. Finally, we will scan the time delay of the IR pulse and consider the resulting proton momentum distribution, since the $H_2^+$ breaks into $H$ and a $H^+$ which can also be detected experimentally [[1]](https://doi.org/10.1103/PhysRevA.93.012507).\n",
    "\n",
    "If not stated differently - especially $\\tau$ given in fs in most plots - we will use atomic units throughout the whole description of this programming project."
   ]
  },
  {
   "cell_type": "code",
   "execution_count": null,
   "metadata": {},
   "outputs": [],
   "source": [
    "# This module contains the project specific methods, such as split-step method the laser field potential, etc.\n",
    "import methods\n",
    "\n",
    "import numpy as np\n",
    "import numpy.linalg as npLA\n",
    "import scipy.sparse as ss\n",
    "import scipy.sparse.linalg as ssLA\n",
    "\n",
    "import matplotlib.pyplot as plt\n",
    "from matplotlib import animation\n",
    "from IPython.display import HTML"
   ]
  },
  {
   "cell_type": "markdown",
   "metadata": {},
   "source": [
    "## 0. Configuration & Preprocessing"
   ]
  },
  {
   "cell_type": "markdown",
   "metadata": {},
   "source": [
    "For the reasoning on the final choice of grid size, see description of programming project, section 4. The next cell prepares all given files on the same grid, linear interpolation is due to the linear or nearly linear behaviour (see eq. 4 [[2]](https://doi.org/10.1063/1.475800) for $dipole\\_coupling$) used. "
   ]
  },
  {
   "cell_type": "code",
   "execution_count": null,
   "metadata": {},
   "outputs": [],
   "source": [
    "# global variables\n",
    "dx = 0.05  # constant for fineness of grid, could be refined but only by interpolating all .dat files (see methods file)\n",
    "\n",
    "# load given potential and wavefunction data\n",
    "dipole_coupling = methods.load_data(\"dipole_coupling.dat\")\n",
    "wave_function = methods.load_data(\"H2nuclwf.dat\")\n",
    "pot_uneven = methods.load_data(\"H2p_pot_ungerade.dat\")\n",
    "pot_even = methods.load_data(\"H2p_pot_gerade.dat\")\n",
    "\n",
    "# plot raw data for exploration)\n",
    "plt.subplots_adjust(top=1.5, bottom=-1, left=0, right=2, hspace=0.3, wspace=0.5)\n",
    "\n",
    "for i in np.arange(0,4,1):\n",
    "    plt.subplot(221 + i)\n",
    "    E = [dipole_coupling, wave_function, pot_even, pot_uneven]\n",
    "    E1 = [\"dipole_coupling\", \"H2 nucl wavefct.\", \"H2p pot even\", \"H2p pot uneven\"]\n",
    "    plt.plot(E[i][:,0],E[i][:,1])\n",
    "    plt.xlim([0,10])\n",
    "    \n",
    "    plt.title(\"{}\".format(E1[i]))\n",
    "    plt.xlabel('Distance (atomic units)')\n",
    "    plt.ylabel('$E$')\n",
    "\n",
    "dipole_coupling, wave_function, pot_uneven, pot_even = methods.preprocess_data(dipole_coupling, wave_function, \n",
    "                                                                               pot_uneven, pot_even)\n",
    "\n",
    "# normalize wave function\n",
    "wave_function[:,1] /= npLA.norm(wave_function[:,1])"
   ]
  },
  {
   "cell_type": "markdown",
   "metadata": {},
   "source": [
    "## 1. Find the vibrational eigenstates in the H2+ ground state potential"
   ]
  },
  {
   "cell_type": "markdown",
   "metadata": {},
   "source": [
    "#### Hamiltonian for the vibrational eigenstates\n",
    "We want to solve the eigenvalue problem\n",
    "\n",
    "$$\n",
    "\\left[-\\frac{1}{2 \\mu} \\partial_{x}^2 + V(x)\\right] \\phi(x) = E \\cdot\\phi(x)\n",
    "$$\n",
    "\n",
    "of the oscillating protons with reduced mass $\\mu = \\frac{1836}{2}$ for $H_2^+$ in atomic units ($m_p$ given in electron masses). As in previous exercises, we - due to numerics - use finite differences instead of derivatives and the kinetic term therefore is the [second order difference quotient](https://en.wikipedia.org/wiki/Difference_quotient#Second_order) with prefactor $-\\frac{1}{2 \\mu}$. The potential is given as .dat file, the minimum and therefore the equilibrium distance of the protons is roughly 2 Bohr radii."
   ]
  },
  {
   "cell_type": "code",
   "execution_count": null,
   "metadata": {},
   "outputs": [],
   "source": [
    "# compute eigenvals and eigenvecs, use scipy for faster algorithm\n",
    "H = methods.hamiltonian(pot_even[:,1], dx)\n",
    "eigenvals, eigenvecs = ssLA.eigsh(H.toarray(), k=H.shape[0])\n",
    "\n",
    "### visualize eigenstates ###\n",
    "fig, ax = plt.subplots()\n",
    "ax.set_xlim((0, 10))\n",
    "ax.set_ylim((-0.12, 0.12))\n",
    "ax.set_title(\"Eigenfunction Probability Density in the |g> State\")\n",
    "ax.set_xlabel(\"x in $r_B$\")\n",
    "plt.ylabel(\"$|\\psi_n(x)|^2$ in a.u.\")\n",
    "line, = ax.plot([], [])\n",
    "\n",
    "def plot_eigenvec(idx):\n",
    "    line.set_data(pot_even[:,0], eigenvecs[:,idx]**2 + eigenvals[idx])\n",
    "    return (line,)\n",
    "\n",
    "anim = animation.FuncAnimation(\n",
    "    fig,\n",
    "    plot_eigenvec,\n",
    "    frames=np.arange(0, 11, 1),\n",
    "    interval=500,\n",
    "    blit=True\n",
    ")\n",
    "\n",
    "print(\"eigenvalues:\", eigenvals[eigenvals <= 0.0])\n",
    "\n",
    "plt.plot(pot_even[:,0], pot_even[:,1])\n",
    "plt.close()\n",
    "# save if desired\n",
    "if False:\n",
    "    methods.save_anim(anim, \"bound_eigenstates.gif\")\n",
    "HTML(anim.to_jshtml())"
   ]
  },
  {
   "cell_type": "markdown",
   "metadata": {},
   "source": [
    "Here are some examples of vibrational Eigenstates in the ground-state potential:\n",
    "    \n",
    "<img src=\"imgs/vibstates.png\" alt=\"Drawing\" style=\"width: 600px;\"/>"
   ]
  },
  {
   "cell_type": "markdown",
   "metadata": {},
   "source": [
    "The following plots show the influence of the grid size by arbitrarily narrowing the grid to $1/10$ and $1/5$ of the full length respectively. Clearly visible, the eigenenergies come closer to the expected null-level for $n \\rightarrow \\infty$."
   ]
  },
  {
   "cell_type": "code",
   "execution_count": null,
   "metadata": {},
   "outputs": [],
   "source": [
    "pot = pot_even[pot_even[:,0] <= 30.0]\n",
    "\n",
    "H = methods.hamiltonian(pot[:,1], dx)\n",
    "eigenvals, eigenvecs = ssLA.eigsh(H.toarray(), k=H.shape[0])\n",
    "\n",
    "print(eigenvals.shape)\n",
    "\n",
    "plt.figure()\n",
    "plt.xlim((0, 10))\n",
    "plt.ylim((-0.12, 0.12))\n",
    "plt.plot(pot[:,0], pot[:,1], label=\"V(x) for grid size x = {}\".format(30))\n",
    "plt.plot(pot[:,0], eigenvecs[:,20]**2 + eigenvals[20], label=\"Eigenstate #20\")\n",
    "plt.plot(pot[:,0], eigenvecs[:,30]**2 + eigenvals[30], label=\"Eigenstate #30\")\n",
    "plt.plot(pot[:,0], eigenvecs[:,40]**2 + eigenvals[40], label=\"Eigenstate #40\")\n",
    "plt.plot(pot[:,0], eigenvecs[:,50]**2 + eigenvals[50], label=\"Eigenstate #50\")\n",
    "plt.title(\"Four Vibrational Eigenstates\")\n",
    "plt.xlabel(\"x in $r_B$\")\n",
    "plt.ylabel(\"$|\\psi_n(x)|^2$ in a.u.\")\n",
    "plt.legend()"
   ]
  },
  {
   "cell_type": "code",
   "execution_count": null,
   "metadata": {},
   "outputs": [],
   "source": [
    "pot = pot_even[pot_even[:,0] <= 60.0]\n",
    "\n",
    "H = methods.hamiltonian(pot[:,1], dx)\n",
    "eigenvals, eigenvecs = ssLA.eigsh(H.toarray(), k=H.shape[0])\n",
    "\n",
    "print(eigenvecs.shape)\n",
    "\n",
    "plt.figure()\n",
    "plt.xlim((0, 10))\n",
    "plt.ylim((-0.12, 0.12))\n",
    "plt.plot(pot[:,0], pot[:,1], label=\"V(x) for grid size x = {}\".format(50))\n",
    "plt.plot(pot[:,0], eigenvecs[:,20]**2 + eigenvals[20], label=\"Eigenstate #20\")\n",
    "plt.plot(pot[:,0], eigenvecs[:,30]**2 + eigenvals[30], label=\"Eigenstate #30\")\n",
    "plt.plot(pot[:,0], eigenvecs[:,40]**2 + eigenvals[40], label=\"Eigenstate #40\")\n",
    "plt.plot(pot[:,0], eigenvecs[:,50]**2 + eigenvals[50], label=\"Eigenstate #50\")\n",
    "plt.title(\"Four Vibrational Eigenstates\")\n",
    "plt.xlabel(\"x in $r_B$\")\n",
    "plt.ylabel(\"$|\\psi_n(x)|^2$ in a.u.\")\n",
    "plt.legend()"
   ]
  },
  {
   "cell_type": "markdown",
   "metadata": {},
   "source": [
    "### Comparison: Description with Harmonic Oscillator\n",
    "\n",
    "The next brief calculations compare the eigenvalues of the $H_2^+$-potential with hypothetical eigenvalues of a harmonical oscillator approximation.\n",
    "\n",
    "<img src=\"imgs/harmonic.png\" alt=\"Drawing\" style=\"width: 400px;\"/>\n",
    "\n",
    "Theoretically we try to describe the molecule as two masses on a spring with spring constant $k = \\frac{dF}{dr} = \\frac{2e^2}{4\\pi\\epsilon_0R_e^3}$ and reduced mass $\\mu = \\frac{m_1m_2}{m_1 + m_2}$, wherein $R_e$ is the equilibrium distance of the protons in case of the $H_2^+$.\n",
    "\n",
    "$$\n",
    "\\omega = \\sqrt{\\frac{k}{\\mu}} \\overset{\\text{in at. un.}}{\\approx} \\sqrt{\\frac{2 a_0 E_h}{(2a_0)^3}\\frac{2}{1836 m_e}} \\overset{m_e, E_h, a_0 = 1 \\text{ in at. un.}}{=} \\sqrt{\\frac{1}{3672}} \\approx 0.0165\n",
    "$$\n",
    "\n",
    "We therefore would obtain the vibrational eigenenergies\n",
    "\n",
    "$$\n",
    "E = \\omega\\left(n+\\frac{1}{2}\\right) \\approx 0.0165\\cdot n + 0.0083\n",
    "$$\n",
    "\n",
    "Which gives pretty good agreement with the numerically obtained values if one takes into considerations, that $V_{min} = -0.10267$ and therefore\n",
    "\n",
    "$$\n",
    "E \\approx 0.0165\\cdot n - 0.0944\n",
    "$$\n",
    "\n",
    "which is close to the $- 0.0974$ obtained numerically. The step size for the first steps is also only by a factor of $\\approx 2$ different from the simplified theoretical harmonical oscillator predictions. "
   ]
  },
  {
   "cell_type": "markdown",
   "metadata": {},
   "source": [
    "## 2. Simulate the wave packet propagation without the IR laser field"
   ]
  },
  {
   "cell_type": "markdown",
   "metadata": {},
   "source": [
    "Note: time in atomic units is given in unit steps of $\\approx 2.4\\cdot 10^{-17}s$ in SI-units."
   ]
  },
  {
   "cell_type": "code",
   "execution_count": null,
   "metadata": {},
   "outputs": [],
   "source": [
    "H = methods.hamiltonian(pot_even[:,1], dx)\n",
    "h2_time_evolution = methods.TimeEvolution(wave_function[:,1], H.toarray())\n",
    "\n",
    "\n",
    "### visualize time evolution ###\n",
    "fig, ax = plt.subplots()\n",
    "ax.set_xlim((0, 10))\n",
    "ax.set_ylim((-0.5, 3))\n",
    "ax.set_title(\"Propagation of Frank-Condon Wave Function in |g> State\")\n",
    "ax.set_xlabel(\"Proton Distance in Atomic Units\")\n",
    "ax.set_ylabel(\"Wavefunction [a.u.]\")\n",
    "line, = ax.plot([], [])\n",
    "\n",
    "def plot_time_evolution(t):\n",
    "    psit = h2_time_evolution(t)\n",
    "    line.set_data(wave_function[:,0], np.abs(psit/npLA.norm(psit))**2/dx)\n",
    "    return (line,)\n",
    "\n",
    "anim = animation.FuncAnimation(\n",
    "    fig,\n",
    "    plot_time_evolution,\n",
    "    frames=np.linspace(0, 1300, 500),\n",
    "    interval=40,\n",
    "    blit=True\n",
    ")\n",
    "\n",
    "plt.plot(pot_even[:,0], pot_even[:,1])\n",
    "plt.close()\n",
    "# save if desired\n",
    "if False:\n",
    "    methods.save_anim(anim, \"time_evol_wo_laser.gif\", fps=10)\n",
    "HTML(anim.to_jshtml())"
   ]
  },
  {
   "cell_type": "markdown",
   "metadata": {},
   "source": [
    "## 3. Simulate the dynamics of the time-dependent system\n",
    "\n",
    "First, let's evaluate the coupling/ avoided-crossing effect with different coupling strengths. During laser field exposure, the coupling will vary.\n",
    "\n",
    "<img src=\"imgs/avoided.png\" alt=\"Drawing\" style=\"width: 600px;\"/>"
   ]
  },
  {
   "cell_type": "code",
   "execution_count": null,
   "metadata": {
    "scrolled": false
   },
   "outputs": [],
   "source": [
    "# take frequency value in atomic units from publication\n",
    "omega = 0.0599\n",
    "\n",
    "xvals = pot_even[:,0]\n",
    "V1 = pot_even[:,1]\n",
    "V2 = pot_uneven[:,1] - omega\n",
    "\n",
    "### visualize time evolution ###\n",
    "fig, ax = plt.subplots()\n",
    "ax.set_xlim((0, 10))\n",
    "ax.set_ylim((-0.12, 0.12))\n",
    "ax.set_title(\"Avoided Crossing with $W = {0.0001,...,0.1}$\")\n",
    "ax.set_xlabel(\"x in $r_B$\")\n",
    "ax.set_ylabel(\"V(x) in $E_h$\")\n",
    "\n",
    "lines = []\n",
    "for index in range(2):\n",
    "    lobj = ax.plot([],[])[0]\n",
    "    lines.append(lobj)\n",
    "\n",
    "def init():\n",
    "    for line in lines:\n",
    "        line.set_data([],[])\n",
    "    return lines\n",
    "\n",
    "def plot_w_alteration(W):\n",
    "    # solve eigenvalue equation to diagonalize matrix\n",
    "    y1 = 0.5*(V1 + V2) + 0.5*np.sqrt((V1 - V2)**2 + 4*W**2)\n",
    "    y2 = 0.5*(V1 + V2) - 0.5*np.sqrt((V1 - V2)**2 + 4*W**2)\n",
    "    \n",
    "    xlist = [xvals, xvals]\n",
    "    ylist = [y1, y2]\n",
    "    \n",
    "    for lnum, line in enumerate(lines):\n",
    "        line.set_data(xlist[lnum], ylist[lnum])\n",
    "        \n",
    "    return lines\n",
    "\n",
    "anim = animation.FuncAnimation(\n",
    "    fig,\n",
    "    plot_w_alteration,\n",
    "    init_func=init,\n",
    "    frames=np.linspace(0.0001, 0.1, 50),\n",
    "    interval=40,\n",
    "    blit=True\n",
    ")\n",
    "\n",
    "# orignal potentials\n",
    "plt.plot(xvals, V1, color=\"red\", linestyle=\"dashed\", label=\"$|g,0\\hbar\\omega>$\")\n",
    "plt.plot(xvals, V2, color=\"black\", linestyle=\"dashed\", label=\"$|u,-1\\hbar\\omega>$\")\n",
    "plt.legend()\n",
    "plt.close()\n",
    "# save if desired\n",
    "if False:\n",
    "    methods.save_anim(anim, \"avoided_crossing.gif\", fps=5)\n",
    "HTML(anim.to_jshtml())"
   ]
  },
  {
   "cell_type": "markdown",
   "metadata": {},
   "source": [
    "For better visibility, the potential is plotted multiplied with a factor 5 in the next plot. For $\\tau$ the value $\\tau = 1075.3$ is set in $methods.py$, which is equal to the 26 fs mentioned in [[1]](https://doi.org/10.1103/PhysRevA.93.012507)."
   ]
  },
  {
   "cell_type": "code",
   "execution_count": null,
   "metadata": {},
   "outputs": [],
   "source": [
    "potential_scaling = 5\n",
    "tsteps = 300\n",
    "dt = 5\n",
    "\n",
    "potential = methods.LaserFieldPotential(pot_even, pot_uneven, dipole_coupling)\n",
    "split_step = methods.SplitStepMethod(len(wave_function), dx)\n",
    "\n",
    "H = methods.hamiltonian(pot_even[:,1], dx)\n",
    "eigenvals, eigenvecs = ssLA.eigsh(H.toarray(), k=H.shape[0])\n",
    "\n",
    "# storage space for results\n",
    "pot_t = np.zeros((tsteps+1, len(wave_function)), dtype=np.float64)\n",
    "psi_t = np.zeros((tsteps+1, len(wave_function)), dtype=np.complex128)\n",
    "prepared_t = np.zeros((tsteps+1, len(wave_function)), dtype=np.complex128)\n",
    "\n",
    "# set initial values\n",
    "pot_t[0,:] = potential(0)\n",
    "psi_t[0,:] = wave_function[:,1]\n",
    "prepared_t[0,:] = eigenvecs[:,7] + eigenvecs[:,8]\n",
    "\n",
    "# compute time evolution\n",
    "for tstep in range(1, tsteps+1):\n",
    "    pot_t[tstep,:] = potential(dt * tstep)\n",
    "    psi_t[tstep,:] = split_step(psi_t[tstep-1], dt, pot_t[tstep])\n",
    "    prepared_t[tstep,:] = split_step(prepared_t[tstep-1], dt, prepared_t[tstep])\n",
    "\n",
    "### visualize time evolution ###\n",
    "fig, ax = plt.subplots()\n",
    "ax.set_xlim((0, 20))\n",
    "ax.set_ylim((-1, 3))\n",
    "ax.set_title(\"Propagation of Frank-Condon Wave Function (orange) and mixture of \\n \" \\\n",
    "             \"eigenstates #7/#8 (green) in time-dependent potential\")\n",
    "ax.set_xlabel(\"Proton Distance in Atomic Units\")\n",
    "ax.set_ylabel(\"Wavefunction [a.u.]\")\n",
    "line_0, = ax.plot([], [])\n",
    "line_1, = ax.plot([], [])\n",
    "line_2, = ax.plot([], [])\n",
    "\n",
    "def plot_laser_field_time_evolution(idx):\n",
    "    line_0.set_data(wave_function[:,0], potential_scaling * pot_t[idx])\n",
    "    line_1.set_data(wave_function[:,0], np.abs(psi_t[idx,:]/npLA.norm(psi_t[idx,:]))**2/dx)\n",
    "    line_2.set_data(wave_function[:,0], np.abs(prepared_t[idx,:]/npLA.norm(prepared_t[idx,:]))**2/dx)\n",
    "    return (line_0, line_1, line_2)\n",
    "\n",
    "anim = animation.FuncAnimation(\n",
    "    fig,\n",
    "    plot_laser_field_time_evolution,\n",
    "    frames=range(0, tsteps+1),\n",
    "    interval=50,\n",
    "    blit=True\n",
    ")\n",
    "\n",
    "plt.close()\n",
    "# save if desired\n",
    "if False:\n",
    "    methods.save_anim(anim, \"laser_field_evolution.gif\", fps=10)\n",
    "HTML(anim.to_jshtml())"
   ]
  },
  {
   "cell_type": "markdown",
   "metadata": {},
   "source": [
    "## 4. Scan the delay time and analyze the momentum distribution"
   ]
  },
  {
   "cell_type": "markdown",
   "metadata": {},
   "source": [
    "Discussions about the chosen total time range of  $2\\cdot 10^4$  can be found in the description of the project or in [[5]](https://doi.org/10.1088%2F0953-4075%2F36%2F4%2F305).\n",
    "\n",
    "Runtime is roughly 22 minutes on my machine with Ryzen5 2400G and scales linearly in the number of taus."
   ]
  },
  {
   "cell_type": "code",
   "execution_count": null,
   "metadata": {},
   "outputs": [],
   "source": [
    "tsteps = 2000\n",
    "dt = 10\n",
    "cutoff = 120                           # cutoff at 6 Bohr radii\n",
    "taus = (np.arange(400)*1 - 5)*41.34    # 41.34 conversion atomic units to fs \n",
    "\n",
    "potential = methods.LaserFieldPotential(pot_even, pot_uneven, dipole_coupling)\n",
    "split_step = methods.SplitStepMethod(len(wave_function), dx)\n",
    "\n",
    "H = methods.hamiltonian(pot_even[:,1], dx)\n",
    "eigenvals, eigenvecs = ssLA.eigsh(H.toarray(), k=H.shape[0])\n",
    "\n",
    "# storage space for results\n",
    "momentum_psi = np.zeros((len(taus), len(wave_function) - cutoff), dtype=np.complex128)\n",
    "momentum_prepared = np.zeros((len(taus), len(wave_function) - cutoff), dtype=np.complex128)\n",
    "\n",
    "for idx, tau in enumerate(taus):\n",
    "    potential.tau = tau\n",
    "\n",
    "    # storage space for results\n",
    "    pot_t = np.zeros((tsteps+1, len(wave_function)), dtype=np.float64)\n",
    "    psi_t = np.zeros((tsteps+1, len(wave_function)), dtype=np.complex128)\n",
    "    prepared_t = np.zeros((tsteps+1, len(wave_function)), dtype=np.complex128)\n",
    "\n",
    "    # set initial values\n",
    "    pot_t[0,:] = potential(0)\n",
    "    psi_t[0,:] = wave_function[:,1]\n",
    "    prepared_t[0,:] = eigenvecs[:,7] + eigenvecs[:,8]\n",
    "\n",
    "    # compute time evolution\n",
    "    for tstep in range(1, tsteps+1):\n",
    "        pot_t[tstep,:] = potential(dt * tstep)\n",
    "        psi_t[tstep,:] = split_step(psi_t[tstep-1], dt, pot_t[tstep])\n",
    "        prepared_t[tstep,:] = split_step(prepared_t[tstep-1], dt, prepared_t[tstep])\n",
    "    \n",
    "    momentum_psi[idx] = np.fft.fft(psi_t[-1][cutoff:]**2)\n",
    "    momentum_prepared[idx] = np.fft.fft(prepared_t[-1][cutoff:]**2)"
   ]
  },
  {
   "cell_type": "markdown",
   "metadata": {},
   "source": [
    "For clarification one Fourier-analyzed spectral slice for the delay time of $\\tau = 95$ fs to assess correctness of momenta."
   ]
  },
  {
   "cell_type": "code",
   "execution_count": null,
   "metadata": {},
   "outputs": [],
   "source": [
    "# one select spectral slice for tau = 100-5 fs\n",
    "npoints = len(wave_function)-cutoff\n",
    "kvals = 2*np.pi*np.fft.fftfreq(npoints, d=dx)\n",
    "start = 0\n",
    "stop = 5879       # total length, given by 300/0.05-120 = 5880\n",
    "plt.plot(kvals[start:stop], np.abs(momentum_psi[100,start:stop])**2)\n",
    "plt.title(r\"Spectral Slice for $\\tau = 95$ fs\")\n",
    "plt.xlabel(\"momentum (atomic units)\")\n",
    "plt.ylabel(\"intensity (arb. units)\")"
   ]
  },
  {
   "cell_type": "markdown",
   "metadata": {},
   "source": [
    "Next, we visualize the count distribution of FC wave packet for tau up to 395 fs."
   ]
  },
  {
   "cell_type": "code",
   "execution_count": null,
   "metadata": {},
   "outputs": [],
   "source": [
    "plt.imshow(np.abs(momentum_psi.T)**2, cmap=plt.cm.jet, aspect=\"auto\",extent=[-5,395,stop,start])\n",
    "plt.ylim([500,1100])\n",
    "plt.xlabel(r'$\\tau$ (fs)')\n",
    "plt.ylabel('momentum (arb. un.)')\n",
    "plt.title(\"Count Distribution of FC Wave Packet\")\n",
    "plt.colorbar()\n",
    "\n",
    "plt.subplots_adjust(top=1, bottom=0, left=-1, right=1, hspace=0.3, wspace=0)"
   ]
  },
  {
   "cell_type": "markdown",
   "metadata": {},
   "source": [
    "Similar calculation, this time for $\\tau$ only up to 195 fs."
   ]
  },
  {
   "cell_type": "code",
   "execution_count": null,
   "metadata": {},
   "outputs": [],
   "source": [
    "tsteps = 2000\n",
    "dt = 10\n",
    "cutoff = 120                           # cutoff at 6 Bohr radii\n",
    "taus = (np.arange(200)*1 - 5)*41.34    # 41.34 conversion atomic units to fs \n",
    "\n",
    "potential = methods.LaserFieldPotential(pot_even, pot_uneven, dipole_coupling)\n",
    "split_step = methods.SplitStepMethod(len(wave_function), dx)\n",
    "\n",
    "H = methods.hamiltonian(pot_even[:,1], dx)\n",
    "eigenvals, eigenvecs = ssLA.eigsh(H.toarray(), k=H.shape[0])\n",
    "\n",
    "# storage space for results\n",
    "momentum_psi2 = np.zeros((len(taus), len(wave_function) - cutoff), dtype=np.complex128)\n",
    "momentum_prepared2 = np.zeros((len(taus), len(wave_function) - cutoff), dtype=np.complex128)\n",
    "\n",
    "for idx, tau in enumerate(taus):\n",
    "    potential.tau = tau\n",
    "\n",
    "    # storage space for results\n",
    "    pot_t = np.zeros((tsteps+1, len(wave_function)), dtype=np.float64)\n",
    "    psi_t = np.zeros((tsteps+1, len(wave_function)), dtype=np.complex128)\n",
    "    prepared_t = np.zeros((tsteps+1, len(wave_function)), dtype=np.complex128)\n",
    "\n",
    "    # set initial values\n",
    "    pot_t[0,:] = potential(0)\n",
    "    psi_t[0,:] = wave_function[:,1]\n",
    "    prepared_t[0,:] = eigenvecs[:,7] + eigenvecs[:,8]\n",
    "\n",
    "    # compute time evolution\n",
    "    for tstep in range(1, tsteps+1):\n",
    "        pot_t[tstep,:] = potential(dt * tstep)\n",
    "        psi_t[tstep,:] = split_step(psi_t[tstep-1], dt, pot_t[tstep])\n",
    "        prepared_t[tstep,:] = split_step(prepared_t[tstep-1], dt, prepared_t[tstep])\n",
    "    \n",
    "    momentum_psi2[idx] = np.fft.fft(psi_t[-1][cutoff:]**2)\n",
    "    momentum_prepared2[idx] = np.fft.fft(prepared_t[-1][cutoff:]**2)"
   ]
  },
  {
   "cell_type": "markdown",
   "metadata": {},
   "source": [
    "Lastly, we visualize the count distribution of FC wave packet for tau up to 195 fs."
   ]
  },
  {
   "cell_type": "code",
   "execution_count": null,
   "metadata": {},
   "outputs": [],
   "source": [
    "plt.imshow(np.abs(momentum_psi2.T)**2, cmap=plt.cm.jet, aspect=\"auto\",extent=[-5,195,stop,start])\n",
    "plt.ylim([500,1100])\n",
    "plt.xlabel(r'$\\tau$ (fs)')\n",
    "plt.ylabel('momentum (arb. un.)')\n",
    "plt.title(\"Count Distribution of FC Wave Packet\")\n",
    "plt.colorbar()\n",
    "\n",
    "plt.subplots_adjust(top=1, bottom=0, left=-1, right=1, hspace=0.3, wspace=0)"
   ]
  },
  {
   "cell_type": "code",
   "execution_count": null,
   "metadata": {},
   "outputs": [],
   "source": []
  }
 ],
 "metadata": {
  "file_extension": ".py",
  "kernelspec": {
   "display_name": "Python 3",
   "language": "python",
   "name": "python3"
  },
  "language_info": {
   "codemirror_mode": {
    "name": "ipython",
    "version": 3
   },
   "file_extension": ".py",
   "mimetype": "text/x-python",
   "name": "python",
   "nbconvert_exporter": "python",
   "pygments_lexer": "ipython3",
   "version": "3.8.5"
  },
  "mimetype": "text/x-python",
  "name": "python",
  "npconvert_exporter": "python",
  "pygments_lexer": "ipython3",
  "version": 3
 },
 "nbformat": 4,
 "nbformat_minor": 2
}
